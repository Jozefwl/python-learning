{
 "cells": [
  {
   "cell_type": "code",
   "execution_count": null,
   "id": "938dc9d6-eba5-418b-af4c-99e22b70dfe2",
   "metadata": {},
   "outputs": [
    {
     "name": "stdout",
     "output_type": "stream",
     "text": [
      "1 xxxxxxxx\n",
      "2 xxxxxxxx\n",
      "3 xxxxxxxx\n",
      "4 xxxxxxxx\n",
      "5 xxxxxxxx\n"
     ]
    }
   ],
   "source": [
    "generations = 5 # pocet generacii na vykonanie\n",
    "row = [1, 1, 1, 1, 1, 1, 1, 1]  # vstupny array prvkov\n",
    "genNumber = 1  #  cislovanie generacii\n",
    "\n",
    "def step(row):  \n",
    "    new_row = [0] * len(row)  # vytvor novy prazdny riadok rovnakej dlzky  \n",
    "\n",
    "    for i in range(len(row)):  \n",
    "        # definicia laveho a praveho suseda  \n",
    "        left = row[i - 1] if i > 0 else 0  \n",
    "        right = row[i + 1] if i < len(row) - 1 else 0  \n",
    "\n",
    "        # pravidlo: ak je bunka ziva a ma aspon jedneho ziveho suseda, zostane ziva  \n",
    "        if row[i] == 1 and (left == 1 or right == 1):  \n",
    "            new_row[i] = 1  \n",
    "        elif row[i] == 0 and (left + right == 1):  \n",
    "            new_row[i] = 1  \n",
    "\n",
    "        # pravidlo: ak ma bunka dvoch zivych susedov, zomrie  \n",
    "        if row[i] == 1 and (left == 1 and right == 1):  \n",
    "            new_row[i] = 0  \n",
    "\n",
    "    return new_row  # vrat novu generaciu  \n",
    "\n",
    "def printrow(row):\n",
    "    global generations\n",
    "    global genNumber  \n",
    "\n",
    "    for _ in range(generations):  # opakuj dany pocet generacii\n",
    "        output = str(genNumber) + ' ' + ''.join(['Y' if cell == 1 else 'x' for cell in row])  \n",
    "        print(output)\n",
    "        \n",
    "        row = step(row)  # vygeneruj dalsiu generaciu\n",
    "        genNumber += 1  # zvys pocet generacii  \n",
    "\n",
    "printrow(row)  # spusti algoritmus\n"
   ]
  },
  {
   "cell_type": "code",
   "execution_count": null,
   "id": "5a58e87d-75f9-4c31-b0a2-1723f111115d",
   "metadata": {},
   "outputs": [],
   "source": []
  },
  {
   "cell_type": "code",
   "execution_count": null,
   "id": "035f5532-30c5-4cb9-a0d8-ae4f33dbba7b",
   "metadata": {},
   "outputs": [],
   "source": []
  }
 ],
 "metadata": {
  "kernelspec": {
   "display_name": "base",
   "language": "python",
   "name": "python3"
  },
  "language_info": {
   "codemirror_mode": {
    "name": "ipython",
    "version": 3
   },
   "file_extension": ".py",
   "mimetype": "text/x-python",
   "name": "python",
   "nbconvert_exporter": "python",
   "pygments_lexer": "ipython3",
   "version": "3.12.7"
  }
 },
 "nbformat": 4,
 "nbformat_minor": 5
}
