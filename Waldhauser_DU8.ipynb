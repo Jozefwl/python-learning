{
 "cells": [
  {
   "cell_type": "code",
   "execution_count": null,
   "id": "2bfaef05",
   "metadata": {},
   "outputs": [
    {
     "name": "stdout",
     "output_type": "stream",
     "text": [
      "h\n",
      "['p edge 8 10', 'e 1 4 35', 'e 1 3 25', 'e 1 2 32', 'e 4 6 17', 'e 3 6 17', 'e 3 5 19', 'e 2 5 19', 'e 6 7 0', 'e 5 8 10', 'e 8 7 0']\n"
     ]
    }
   ],
   "source": [
    "#!pip install tensorflow matplotlib numpy keras\n",
    "\n",
    "import networkx as nx\n",
    "import random\n",
    "import requests\n",
    "import time\n",
    "import math\n",
    "from collections import deque, Counter\n",
    "\n",
    "def import_dimacs_graph(file_path):\n",
    "    # nacitanie a spracovanie grafu z dimacs do grafu networkx.graph\n",
    "    with open(file_path, \"r\") as file:\n",
    "        content = file.read()\n",
    "\n",
    "    # remove comments\n",
    "    formattedContent = []\n",
    "    for line in content.splitlines():\n",
    "        if line.startswith(\"c\"):\n",
    "            continue\n",
    "        else:\n",
    "            formattedContent.append(line)\n",
    "\n",
    "    graph = nx.Graph()\n",
    "    #print(formattedContent)\n",
    "    print(f\"Loaded graph with {edges} edges and {nodes} nodes\".)\n",
    "\n",
    "def path_planner(self, start, goal):\n",
    "    # budeme to robit v grafe\n",
    "    # berie dvojicu suradnic start a dvojicu suradnic goal\n",
    "    # v mape block.py vrati dve premenne:\n",
    "    # 1. frontu resp array. obsahujucu suvislu postupnost dvojic suradnic zo statu do ciela\n",
    "    # 2. pole expandovanych uzlov k vyfarbeniu\n",
    "    # implementovat: greedy best first search, dijkstra a a*\n",
    "\n",
    "    # =================================================================\n",
    "    # 1. greedy best first search\n",
    "    # =================================================================\n",
    "    # co to robi\n",
    "    # skuma cestu bez ohladu ci je to naozaj najlepsia cesta\n",
    "    # skuma body a vyberie cestu co ma \"najlepsi cenu\"\n",
    "    # opakuje sa dokym sa nedostane do ciela\n",
    "\n",
    "\n",
    "    # =================================================================\n",
    "    # 2. dijkstra\n",
    "    # =================================================================\n",
    "    # co to robi\n",
    "    # \n",
    "    \n",
    "    # =================================================================\n",
    "    # 3. a*\n",
    "    # =================================================================\n",
    "    return 0\n",
    "\n",
    "if __name__ == \"__main__\":\n",
    "    import_dimacs_graph(\"du8_graf.col\")"
   ]
  }
 ],
 "metadata": {
  "kernelspec": {
   "display_name": "base",
   "language": "python",
   "name": "python3"
  },
  "language_info": {
   "codemirror_mode": {
    "name": "ipython",
    "version": 3
   },
   "file_extension": ".py",
   "mimetype": "text/x-python",
   "name": "python",
   "nbconvert_exporter": "python",
   "pygments_lexer": "ipython3",
   "version": "3.12.7"
  }
 },
 "nbformat": 4,
 "nbformat_minor": 5
}
