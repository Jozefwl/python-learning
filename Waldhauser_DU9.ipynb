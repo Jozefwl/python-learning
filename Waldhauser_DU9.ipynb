{
 "cells": [
  {
   "cell_type": "code",
   "execution_count": null,
   "id": "2bfaef05",
   "metadata": {},
   "outputs": [
    {
     "ename": "IndentationError",
     "evalue": "expected an indented block after 'if' statement on line 12 (3967256419.py, line 14)",
     "output_type": "error",
     "traceback": [
      "\u001b[0;36m  Cell \u001b[0;32mIn[1], line 14\u001b[0;36m\u001b[0m\n\u001b[0;31m    pass\u001b[0m\n\u001b[0m    ^\u001b[0m\n\u001b[0;31mIndentationError\u001b[0m\u001b[0;31m:\u001b[0m expected an indented block after 'if' statement on line 12\n"
     ]
    }
   ],
   "source": [
    "\"\"\"     Naimplementujte funkci ttt_move(game, myplayer, otherplayer), která vezme na vstupu seznam seznamů (matici 3x3) \n",
    "herního plánu tic-tac-toe obsahující 0, 1 nebo 2 = (prázdné políčko, křížek nebo kolečko). Parametr myplayer určuje číslo hráče,\n",
    " který je na tahu - 1 (hraje křížky) nebo 2 (hraje kolečky). Parametr otherplayer je číslo druhého hráče. Funkce vrací nový herní \n",
    " plán rozšířený o tah hráče myplayer.\n",
    "    Můžete využít předimplementované funkce v příslušném jupyter notebooku\"\"\"\n",
    "\n",
    "matrix = [[0, 0, 0], [0, 0, 0], [0, 0, 0]] # herni plan\n",
    "# 1 = X, 2 = O\n",
    "\n",
    "def ttt_move(game, myplayer, otherplayer):\n",
    "    moveSymbol = \"\"\n",
    "    if myplayer == 1:\n",
    "        moveSymbol = \"X\"\n",
    "    else:\n",
    "        moveSymbol = \"O\"\n",
    "\n",
    "    \n",
    "\n",
    "    return game\n",
    "\n",
    "\n",
    "if __name__ == \"__main__\":\n",
    "    print(\"Main\")\n",
    "\n"
   ]
  },
  {
   "cell_type": "markdown",
   "id": "6b1173d7",
   "metadata": {},
   "source": []
  }
 ],
 "metadata": {
  "kernelspec": {
   "display_name": "base",
   "language": "python",
   "name": "python3"
  },
  "language_info": {
   "codemirror_mode": {
    "name": "ipython",
    "version": 3
   },
   "file_extension": ".py",
   "mimetype": "text/x-python",
   "name": "python",
   "nbconvert_exporter": "python",
   "pygments_lexer": "ipython3",
   "version": "3.12.7"
  }
 },
 "nbformat": 4,
 "nbformat_minor": 5
}
