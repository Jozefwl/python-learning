{
 "cells": [
  {
   "cell_type": "markdown",
   "id": "5ca26efc",
   "metadata": {},
   "source": [
    "# This is a test for perplexity API\n",
    "---"
   ]
  },
  {
   "cell_type": "code",
   "execution_count": 9,
   "id": "2bfaef05",
   "metadata": {},
   "outputs": [],
   "source": [
    "#!pip install tkinter\n",
    "# For starters i want to give it some sort of personality\n",
    "import tkinter as tk\n",
    "from tkinter import ttk\n",
    "\n",
    "root = tk.Tk()\n",
    "root.title(\"Test\")\n",
    "root.geometry(\"640x480\")\n",
    "\n",
    "# widgets = [\n",
    "#     tk.Label,\n",
    "#     tk.Checkbutton,\n",
    "#     ttk.Combobox,\n",
    "#     tk.Entry,\n",
    "#     tk.Button,\n",
    "#     tk.Radiobutton,\n",
    "#     tk.Scale,\n",
    "#     tk.Spinbox,\n",
    "# ]\n",
    "\n",
    "# for widget in widgets:\n",
    "#     try:\n",
    "#         widget = widget(root, text=widget.__name__)\n",
    "#     except tk.TclError:\n",
    "#         widget = widget(root)\n",
    "#     widget.pack(padx=5, pady=5, fill=\"x\")\n",
    "\n",
    "label = tk.Label(root, text=\"Test\", font=(\"Arial\", 22))\n",
    "label.grid(row=0, column=0, sticky=\"nw\")\n",
    "\n",
    "\n",
    "scale = tk.Scale()\n",
    "scale.grid(row=1, column=0, sticky=\"nw\")\n",
    "\n",
    "\n",
    "\n",
    "root.mainloop()"
   ]
  },
  {
   "cell_type": "markdown",
   "id": "6b1173d7",
   "metadata": {},
   "source": []
  }
 ],
 "metadata": {
  "kernelspec": {
   "display_name": "base",
   "language": "python",
   "name": "python3"
  },
  "language_info": {
   "codemirror_mode": {
    "name": "ipython",
    "version": 3
   },
   "file_extension": ".py",
   "mimetype": "text/x-python",
   "name": "python",
   "nbconvert_exporter": "python",
   "pygments_lexer": "ipython3",
   "version": "3.12.7"
  }
 },
 "nbformat": 4,
 "nbformat_minor": 5
}
